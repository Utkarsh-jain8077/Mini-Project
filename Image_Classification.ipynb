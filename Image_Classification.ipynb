{
  "nbformat": 4,
  "nbformat_minor": 0,
  "metadata": {
    "colab": {
      "name": "Image Classification.ipynb",
      "provenance": [],
      "collapsed_sections": [],
      "authorship_tag": "ABX9TyPLi7LVTTZLaX+SOKJGknNR",
      "include_colab_link": true
    },
    "kernelspec": {
      "name": "python3",
      "display_name": "Python 3"
    },
    "language_info": {
      "name": "python"
    }
  },
  "cells": [
    {
      "cell_type": "markdown",
      "metadata": {
        "id": "view-in-github",
        "colab_type": "text"
      },
      "source": [
        "<a href=\"https://colab.research.google.com/github/Utkarsh-jain8077/Mini-Project/blob/main/Image_Classification.ipynb\" target=\"_parent\"><img src=\"https://colab.research.google.com/assets/colab-badge.svg\" alt=\"Open In Colab\"/></a>"
      ]
    },
    {
      "cell_type": "code",
      "metadata": {
        "colab": {
          "base_uri": "https://localhost:8080/"
        },
        "id": "lljRlei5CmtR",
        "outputId": "7e6d034c-31d0-4c56-ea87-358bfb22e685"
      },
      "source": [
        "!pip install bing-image-downloader"
      ],
      "execution_count": 22,
      "outputs": [
        {
          "output_type": "stream",
          "text": [
            "Requirement already satisfied: bing-image-downloader in /usr/local/lib/python3.7/dist-packages (1.1.0)\n"
          ],
          "name": "stdout"
        }
      ]
    },
    {
      "cell_type": "code",
      "metadata": {
        "id": "4FeJCqgUDMMc",
        "colab": {
          "base_uri": "https://localhost:8080/"
        },
        "outputId": "888571ef-faef-4f00-a8be-1c1994c21872"
      },
      "source": [
        "!mkdir images"
      ],
      "execution_count": 23,
      "outputs": [
        {
          "output_type": "stream",
          "text": [
            "mkdir: cannot create directory ‘images’: File exists\n"
          ],
          "name": "stdout"
        }
      ]
    },
    {
      "cell_type": "code",
      "metadata": {
        "id": "bCusSN-kDuX2",
        "colab": {
          "base_uri": "https://localhost:8080/"
        },
        "outputId": "b9386878-7566-463f-9300-14f29a80a23f"
      },
      "source": [
        "from bing_image_downloader import downloader\n",
        "downloader.download(\"beautiful roses\",limit=30,output_dir='images',adult_filter_off=True)"
      ],
      "execution_count": 24,
      "outputs": [
        {
          "output_type": "stream",
          "text": [
            "[%] Downloading Images to /content/images/beautiful roses\n",
            "\n",
            "\n",
            "[!!]Indexing page: 1\n",
            "\n",
            "[%] Indexed 30 Images on Page 1.\n",
            "\n",
            "===============================================\n",
            "\n",
            "[%] Downloading Image #1 from https://i.pinimg.com/originals/45/36/3a/45363a8bbd625d373cf29907e5a6fa6e.jpg\n",
            "[%] File Downloaded !\n",
            "\n",
            "[%] Downloading Image #2 from https://themysteriousworld.com/wp-content/uploads/2016/08/rose.jpg\n",
            "[Error]Invalid image, not saving https://themysteriousworld.com/wp-content/uploads/2016/08/rose.jpg\n",
            "\n",
            "[!] Issue getting: https://themysteriousworld.com/wp-content/uploads/2016/08/rose.jpg\n",
            "[!] Error:: Invalid image, not saving https://themysteriousworld.com/wp-content/uploads/2016/08/rose.jpg\n",
            "\n",
            "[%] Downloading Image #2 from https://i.pinimg.com/originals/54/82/40/5482407f9a022f6cbf8b04f3e62309fb.jpg\n",
            "[%] File Downloaded !\n",
            "\n",
            "[%] Downloading Image #3 from https://i.pinimg.com/originals/4f/25/08/4f2508f998ec187ee62e6c27ecc2ed2c.jpg\n",
            "[%] File Downloaded !\n",
            "\n",
            "[%] Downloading Image #4 from https://i.pinimg.com/originals/5a/17/97/5a1797fb4f40d8908b3518f06019fefb.png\n",
            "[%] File Downloaded !\n",
            "\n",
            "[%] Downloading Image #5 from https://i.pinimg.com/originals/7e/e3/20/7ee3202f8c4a2007865a15848f9fabce.jpg\n",
            "[%] File Downloaded !\n",
            "\n",
            "[%] Downloading Image #6 from https://i.pinimg.com/originals/6f/c4/d9/6fc4d99dca23338160687fc9283a5061.jpg\n",
            "[%] File Downloaded !\n",
            "\n",
            "[%] Downloading Image #7 from https://i.pinimg.com/originals/8e/b4/65/8eb4659166783d9e59af164db7852b71.jpg\n",
            "[%] File Downloaded !\n",
            "\n",
            "[%] Downloading Image #8 from https://i.pinimg.com/originals/fd/1e/de/fd1ede11d86da758329c497e736fd709.jpg\n",
            "[%] File Downloaded !\n",
            "\n",
            "[%] Downloading Image #9 from https://i.pinimg.com/originals/2e/5b/dd/2e5bddd2381cf058c3b39e37f6a5606d.jpg\n",
            "[%] File Downloaded !\n",
            "\n",
            "[%] Downloading Image #10 from https://i.pinimg.com/originals/c3/53/f2/c353f26a042ef9686e2e0a1bc21789f1.jpg\n",
            "[%] File Downloaded !\n",
            "\n",
            "[%] Downloading Image #11 from https://i.pinimg.com/originals/ed/11/35/ed113510e3a70d44bc2e4e5d345e4cc8.jpg\n",
            "[%] File Downloaded !\n",
            "\n",
            "[%] Downloading Image #12 from https://i.pinimg.com/originals/67/92/43/6792430048d6a20f9caaea748b005927.jpg\n",
            "[%] File Downloaded !\n",
            "\n",
            "[%] Downloading Image #13 from https://i.pinimg.com/originals/0b/86/d1/0b86d196a2931c4ee786a037917cd3e4.jpg\n",
            "[%] File Downloaded !\n",
            "\n",
            "[%] Downloading Image #14 from https://i.pinimg.com/originals/00/85/44/008544146b29ac48d4d5d17b7f13a54c.jpg\n",
            "[%] File Downloaded !\n",
            "\n",
            "[%] Downloading Image #15 from https://i.pinimg.com/originals/4f/cb/9b/4fcb9ba2f1b18df905f66cb47133ad72.jpg\n",
            "[%] File Downloaded !\n",
            "\n",
            "[%] Downloading Image #16 from https://i.pinimg.com/1200x/f8/0e/62/f80e625bd512160e415714c9d1ec58c2.jpg\n",
            "[%] File Downloaded !\n",
            "\n",
            "[%] Downloading Image #17 from https://i.pinimg.com/originals/3b/3b/15/3b3b152ac8b643a5bc26c0773646f8ff.jpg\n",
            "[%] File Downloaded !\n",
            "\n",
            "[%] Downloading Image #18 from https://i.pinimg.com/originals/c9/db/aa/c9dbaaa20b9e9a59bde7077af8daf3f6.jpg\n",
            "[%] File Downloaded !\n",
            "\n",
            "[%] Downloading Image #19 from https://i.pinimg.com/originals/7d/76/3d/7d763dd9542792e7ded9ab14fc8849b5.jpg\n",
            "[%] File Downloaded !\n",
            "\n",
            "[%] Downloading Image #20 from https://i.pinimg.com/originals/48/80/b6/4880b69ff571b922a11e1a1980863058.jpg\n",
            "[%] File Downloaded !\n",
            "\n",
            "[%] Downloading Image #21 from https://i.pinimg.com/originals/d4/70/34/d47034d09a25c897a8c38c2d01c9b2bb.jpg\n",
            "[%] File Downloaded !\n",
            "\n",
            "[%] Downloading Image #22 from https://i.pinimg.com/736x/20/3c/68/203c6879e99caac6d3086f61f0cd12d0--roses-roses-pink-roses.jpg\n",
            "[%] File Downloaded !\n",
            "\n",
            "[%] Downloading Image #23 from https://i.pinimg.com/originals/9c/29/47/9c2947eb63e322150f240aadd3097e28.jpg\n",
            "[%] File Downloaded !\n",
            "\n",
            "[%] Downloading Image #24 from https://i.pinimg.com/originals/35/fe/ed/35feed534a62d8ca6546523e0dc8c5a4.jpg\n",
            "[%] File Downloaded !\n",
            "\n",
            "[%] Downloading Image #25 from https://i.pinimg.com/originals/21/bd/92/21bd92c76011274f7ce425d5c1fcd37d.jpg\n",
            "[%] File Downloaded !\n",
            "\n",
            "[%] Downloading Image #26 from https://i.pinimg.com/474x/ee/b8/93/eeb8938c6013f68ddf2a9a6613d18160--purple-roses-roses-roses.jpg\n",
            "[%] File Downloaded !\n",
            "\n",
            "[%] Downloading Image #27 from https://s-media-cache-ak0.pinimg.com/564x/f2/01/57/f201574c8705365b2c3e182953f765f2.jpg\n",
            "[%] File Downloaded !\n",
            "\n",
            "[%] Downloading Image #28 from https://i.pinimg.com/originals/f5/09/4b/f5094b661644bd63f8506eabcf786862.jpg\n",
            "[%] File Downloaded !\n",
            "\n",
            "[%] Downloading Image #29 from https://i.pinimg.com/originals/1d/41/36/1d4136a8341f7b9d21e85e633516d349.jpg\n",
            "[%] File Downloaded !\n",
            "\n",
            "\n",
            "\n",
            "[!!]Indexing page: 2\n",
            "\n",
            "[%] Indexed 35 Images on Page 2.\n",
            "\n",
            "===============================================\n",
            "\n",
            "[%] Downloading Image #30 from https://i.pinimg.com/originals/45/36/3a/45363a8bbd625d373cf29907e5a6fa6e.jpg\n",
            "[%] File Downloaded !\n",
            "\n",
            "\n",
            "\n",
            "[%] Done. Downloaded 30 images.\n",
            "===============================================\n",
            "\n",
            "Please show your support here\n",
            "https://www.buymeacoffee.com/gurugaurav\n",
            "\n",
            "===============================================\n",
            "\n"
          ],
          "name": "stdout"
        }
      ]
    },
    {
      "cell_type": "code",
      "metadata": {
        "colab": {
          "base_uri": "https://localhost:8080/"
        },
        "id": "UjNxwOhNFIgl",
        "outputId": "9c3732c6-38ff-423a-f674-978c2397f0f9"
      },
      "source": [
        "downloader.download(\"tennis ball\",limit=30,output_dir='images',adult_filter_off=True)"
      ],
      "execution_count": 25,
      "outputs": [
        {
          "output_type": "stream",
          "text": [
            "[%] Downloading Images to /content/images/tennis ball\n",
            "\n",
            "\n",
            "[!!]Indexing page: 1\n",
            "\n",
            "[%] Indexed 30 Images on Page 1.\n",
            "\n",
            "===============================================\n",
            "\n",
            "[%] Downloading Image #1 from https://n4.sdlcdn.com/imgs/h/6/5/Bayside-Sports-Tennis-Ball-Pack-SDL407383006-1-9737c.jpeg\n",
            "[%] File Downloaded !\n",
            "\n",
            "[%] Downloading Image #2 from https://2.imimg.com/data2/DY/HB/MY-710817/true-flight-tennis-ball.jpg\n",
            "[%] File Downloaded !\n",
            "\n",
            "[%] Downloading Image #3 from https://i.ytimg.com/vi/1cOLXEp2kvw/maxresdefault.jpg\n",
            "[%] File Downloaded !\n",
            "\n",
            "[%] Downloading Image #4 from https://n4.sdlcdn.com/imgs/c/f/1/Hayden-12-Red-Tennis-Ball-SDL674639018-2-9a42e.jpg\n",
            "[%] File Downloaded !\n",
            "\n",
            "[%] Downloading Image #5 from https://i.redd.it/8z0mieog48q41.jpg\n",
            "[%] File Downloaded !\n",
            "\n",
            "[%] Downloading Image #6 from https://i.pinimg.com/originals/bf/d1/1f/bfd11fabbdb90ad8fed9c9a0052ae4ec.jpg\n",
            "[%] File Downloaded !\n",
            "\n",
            "[%] Downloading Image #7 from https://www.thompsonsportinggoods.com/wp-content/uploads/2020/04/10117TrueSpinTableTennisBallsPackof6_2nd.jpg\n",
            "[%] File Downloaded !\n",
            "\n",
            "[%] Downloading Image #8 from https://www.rd.com/wp-content/uploads/2017/09/Why-You-Should-Always-Fly-with-a-Tennis-Ball-in-Your-Carry-On_523522210_Nuk2013-ft.jpg\n",
            "[%] File Downloaded !\n",
            "\n",
            "[%] Downloading Image #9 from https://i.pinimg.com/originals/11/7d/53/117d53dafc24dbdf928af8f4639ace04.jpg\n",
            "[%] File Downloaded !\n",
            "\n",
            "[%] Downloading Image #10 from https://i.ytimg.com/vi/9T4hvQDv200/maxresdefault.jpg\n",
            "[%] File Downloaded !\n",
            "\n",
            "[%] Downloading Image #11 from http://static5.depositphotos.com/1042606/522/i/950/depositphotos_5225294-Tennis-ball-and-court.jpg\n",
            "[%] File Downloaded !\n",
            "\n",
            "[%] Downloading Image #12 from https://qph.fs.quoracdn.net/main-qimg-d0c6f30100f9925109f40d43541a5a3e\n",
            "[%] File Downloaded !\n",
            "\n",
            "[%] Downloading Image #13 from https://www.sportsballshop.co.uk/sportsballblog/wp-content/uploadsortsballshop.co.uk/user/2017/02/TableTennisBalls.jpg\n",
            "[%] File Downloaded !\n",
            "\n",
            "[%] Downloading Image #14 from https://www.brusselstennisschool.be/static/641279f598164302eda3cf0e4544b981/d8255/bg.jpg\n",
            "[Error]Invalid image, not saving https://www.brusselstennisschool.be/static/641279f598164302eda3cf0e4544b981/d8255/bg.jpg\n",
            "\n",
            "[!] Issue getting: https://www.brusselstennisschool.be/static/641279f598164302eda3cf0e4544b981/d8255/bg.jpg\n",
            "[!] Error:: Invalid image, not saving https://www.brusselstennisschool.be/static/641279f598164302eda3cf0e4544b981/d8255/bg.jpg\n",
            "\n",
            "[%] Downloading Image #14 from https://live.staticflickr.com/1562/24495146972_0c4a47fd0c.jpg\n",
            "[%] File Downloaded !\n",
            "\n",
            "[%] Downloading Image #15 from https://image-cdn.hypb.st/https%3A%2F%2Fhypebeast.com%2Fimage%2F2016%2F08%2Fadidas-d-lillard-2-tennis-ball-0.jpg?w=960&amp;cbr=1&amp;q=90&amp;fit=max\n",
            "[%] File Downloaded !\n",
            "\n",
            "[%] Downloading Image #16 from https://pbs.twimg.com/media/B8A9KhHCAAAJGqq.jpg\n",
            "[!] Issue getting: https://pbs.twimg.com/media/B8A9KhHCAAAJGqq.jpg\n",
            "[!] Error:: The read operation timed out\n",
            "[%] Downloading Image #16 from https://www.pinpng.com/pngs/m/234-2341769_true-ball-bounce-german-table-tennis-table-hd.png\n",
            "[%] File Downloaded !\n",
            "\n",
            "[%] Downloading Image #17 from https://i.ebayimg.com/images/g/pwwAAOSwSDxeej4z/s-l640.jpg\n",
            "[%] File Downloaded !\n",
            "\n",
            "[%] Downloading Image #18 from https://www.truehealthunlimited.com/blog/wp-content/uploads/2016/04/tennisball.jpg\n",
            "[%] File Downloaded !\n",
            "\n",
            "[%] Downloading Image #19 from https://sbly-web-prod-shareably.netdna-ssl.com/wp-content/uploads/2020/03/26034325/Screen-Shot-2020-03-25-at-11.43.00-PM.png\n",
            "[%] File Downloaded !\n",
            "\n",
            "[%] Downloading Image #20 from https://i.ebayimg.com/images/g/eg0AAOSw9tteej43/s-l640.jpg\n",
            "[%] File Downloaded !\n",
            "\n",
            "[%] Downloading Image #21 from https://openclipart.org/image/800px/svg_to_png/21790/Chrisdesign_tennis_ball_simple.png\n",
            "[%] File Downloaded !\n",
            "\n",
            "[%] Downloading Image #22 from https://n2.sdlcdn.com/imgs/b/u/l/ARTENGO-TA-Tennis-Ball-s-SDL340743336-1-24ee9.jpg\n",
            "[%] File Downloaded !\n",
            "\n",
            "[%] Downloading Image #23 from https://i.pinimg.com/originals/5f/d7/72/5fd7725ba1c72323760c178a7de680c6.jpg\n",
            "[%] File Downloaded !\n",
            "\n",
            "[%] Downloading Image #24 from https://i.pinimg.com/originals/6e/60/65/6e6065da14a8bfb4d80d99d9641992fc.jpg\n",
            "[%] File Downloaded !\n",
            "\n",
            "[%] Downloading Image #25 from https://lorirtaylor.com/wp-content/uploads/2014/01/Tennis-Content-Marketing.jpg\n",
            "[%] File Downloaded !\n",
            "\n",
            "[%] Downloading Image #26 from https://i.pinimg.com/originals/82/26/af/8226af82a7148d2330ce4a4ca3f8a86a.jpg\n",
            "[%] File Downloaded !\n",
            "\n",
            "[%] Downloading Image #27 from https://sbly-web-prod-shareably.netdna-ssl.com/wp-content/uploads/2020/04/06131639/dog_tennis_balls_6.jpg\n",
            "[%] File Downloaded !\n",
            "\n",
            "[%] Downloading Image #28 from https://sbly-web-prod-shareably.netdna-ssl.com/wp-content/uploads/2020/04/06131659/dog_tennis_balls_2-995x1024.jpg\n",
            "[%] File Downloaded !\n",
            "\n",
            "\n",
            "\n",
            "[!!]Indexing page: 2\n",
            "\n",
            "[%] Indexed 35 Images on Page 2.\n",
            "\n",
            "===============================================\n",
            "\n",
            "[%] Downloading Image #29 from https://n4.sdlcdn.com/imgs/h/6/5/Bayside-Sports-Tennis-Ball-Pack-SDL407383006-1-9737c.jpeg\n",
            "[%] File Downloaded !\n",
            "\n",
            "[%] Downloading Image #30 from https://2.imimg.com/data2/DY/HB/MY-710817/true-flight-tennis-ball.jpg\n",
            "[%] File Downloaded !\n",
            "\n",
            "\n",
            "\n",
            "[%] Done. Downloaded 30 images.\n",
            "===============================================\n",
            "\n",
            "Please show your support here\n",
            "https://www.buymeacoffee.com/gurugaurav\n",
            "\n",
            "===============================================\n",
            "\n"
          ],
          "name": "stdout"
        }
      ]
    },
    {
      "cell_type": "code",
      "metadata": {
        "colab": {
          "base_uri": "https://localhost:8080/"
        },
        "id": "GkM9jjx6FrcO",
        "outputId": "5b8bb7e5-f5c7-44c5-aea7-ae0037a9f91f"
      },
      "source": [
        "downloader.download(\"dog\",limit=30,output_dir='images',adult_filter_off=True)"
      ],
      "execution_count": 26,
      "outputs": [
        {
          "output_type": "stream",
          "text": [
            "[%] Downloading Images to /content/images/dog\n",
            "\n",
            "\n",
            "[!!]Indexing page: 1\n",
            "\n",
            "[%] Indexed 30 Images on Page 1.\n",
            "\n",
            "===============================================\n",
            "\n",
            "[%] Downloading Image #1 from https://cdn.newsapi.com.au/image/v1/098fe707e818d4d04deb0e27af7186bd?width=650\n",
            "[%] File Downloaded !\n",
            "\n",
            "[%] Downloading Image #2 from http://schoolmum.net/wp-content/uploads/2016/12/RedDog-TrueBlue-FULL.jpg\n",
            "[%] File Downloaded !\n",
            "\n",
            "[%] Downloading Image #3 from https://i.ytimg.com/vi/Pc1ms7EG7UE/maxresdefault.jpg\n",
            "[%] File Downloaded !\n",
            "\n",
            "[%] Downloading Image #4 from https://static.ffx.io/images/$width_620%2C$height_414/t_crop_fill/q_86%2Cf_auto/t_theage_no_label_social_wm/l_text:PT Sans_41_bold_italic: from %2Cg_south_west%2Cy_84%2Cx_384%2Cco_rgb:0a1633/l_text:PT Sans_41_bold:  %2Cg_south_west%2Cy_90%2Cx_471%2Cco_rgb:0a1633/l_text:AbrilTitling-Bold.ttf_83: 2012 %2Cg_south_west%2Cy_15%2Cx_370%2Cco_rgb:0a1633/c948ee51fe003a1416ba1fd5de5d5fcf23452d74\n",
            "[!] Issue getting: https://static.ffx.io/images/$width_620%2C$height_414/t_crop_fill/q_86%2Cf_auto/t_theage_no_label_social_wm/l_text:PT Sans_41_bold_italic: from %2Cg_south_west%2Cy_84%2Cx_384%2Cco_rgb:0a1633/l_text:PT Sans_41_bold:  %2Cg_south_west%2Cy_90%2Cx_471%2Cco_rgb:0a1633/l_text:AbrilTitling-Bold.ttf_83: 2012 %2Cg_south_west%2Cy_15%2Cx_370%2Cco_rgb:0a1633/c948ee51fe003a1416ba1fd5de5d5fcf23452d74\n",
            "[!] Error:: URL can't contain control characters. '/images/$width_620%2C$height_414/t_crop_fill/q_86%2Cf_auto/t_theage_no_label_social_wm/l_text:PT Sans_41_bold_italic: from %2Cg_south_west%2Cy_84%2Cx_384%2Cco_rgb:0a1633/l_text:PT Sans_41_bold:  %2Cg_south_west%2Cy_90%2Cx_471%2Cco_rgb:0a1633/l_text:AbrilTitling-Bold.ttf_83: 2012 %2Cg_south_west%2Cy_15%2Cx_370%2Cco_rgb:0a1633/c948ee51fe003a1416ba1fd5de5d5fcf23452d74' (found at least ' ')\n",
            "[%] Downloading Image #4 from https://stack.com.au/wp-content/uploads/2016/09/Red_Dog_True_Blue.jpg\n",
            "[%] File Downloaded !\n",
            "\n",
            "[%] Downloading Image #5 from https://i.ytimg.com/vi/34yF2odGSTw/maxresdefault.jpg\n",
            "[%] File Downloaded !\n",
            "\n",
            "[%] Downloading Image #6 from https://i.ytimg.com/vi/cwNXkxemx5k/maxresdefault.jpg\n",
            "[%] File Downloaded !\n",
            "\n",
            "[%] Downloading Image #7 from https://i.pinimg.com/originals/30/29/bf/3029bf77283796e996d5f2bdeaaf5ef7.jpg\n",
            "[%] File Downloaded !\n",
            "\n",
            "[%] Downloading Image #8 from https://assets.mubicdn.net/images/film/155689/image-w856.jpg?1471008654\n",
            "[%] File Downloaded !\n",
            "\n",
            "[%] Downloading Image #9 from https://www.shanethegamer.com/wp-content/uploads/2016/12/Red-Dog-True-Blue.jpg\n",
            "[%] File Downloaded !\n",
            "\n",
            "[%] Downloading Image #10 from https://ih1.redbubble.net/image.92734969.6503/flat,1000x1000,075,f.u1.jpg\n",
            "[%] File Downloaded !\n",
            "\n",
            "[%] Downloading Image #11 from https://cdn.newsapi.com.au/image/v1/3e1b4219001485d0a27bf0e3e53c4e33?width=1024\n",
            "[%] File Downloaded !\n",
            "\n",
            "[%] Downloading Image #12 from http://villemagazine.com/images/easyblog_articles/257/b2ap3_large_true-dog-parent.jpg\n",
            "[%] File Downloaded !\n",
            "\n",
            "[%] Downloading Image #13 from https://www.reddogwa.com/yahoo_site_admin/assets/images/red-dog--true-blue-2016-large-cover.169221152_large.jpg\n",
            "[%] File Downloaded !\n",
            "\n",
            "[%] Downloading Image #14 from http://image.tmdb.org/t/p/original/ynVc8dxrWUuVguEtdCmmBpBDyXD.jpg\n",
            "[%] File Downloaded !\n",
            "\n",
            "[%] Downloading Image #15 from http://www.thebookthefilmthetshirt.co.uk/wp-content/uploads/2016/09/FeatureRed-Dog-True-Blue.gif\n",
            "[%] File Downloaded !\n",
            "\n",
            "[%] Downloading Image #16 from https://i.ytimg.com/vi/PJF4agXix14/maxresdefault.jpg\n",
            "[%] File Downloaded !\n",
            "\n",
            "[%] Downloading Image #17 from http://cdn.newsapi.com.au/image/v1/8c230ad6c5cb97f6d23cef76930afadf\n",
            "[%] File Downloaded !\n",
            "\n",
            "[%] Downloading Image #18 from https://i.pinimg.com/736x/47/c7/63/47c7632aa28132d90e150805df317cf8--true-beauty-dog-lovers.jpg\n",
            "[%] File Downloaded !\n",
            "\n",
            "[%] Downloading Image #19 from https://i.ytimg.com/vi/xKMA2vduCeg/maxresdefault.jpg\n",
            "[%] File Downloaded !\n",
            "\n",
            "[%] Downloading Image #20 from https://cps-static.rovicorp.com/2/Open/Roadshow_Entertainment_2116/Program/30788783/_3by4/_derived_jpg_q90_600x800_m0/Blue Dog_17266.jpg?partner=allmovie_soap\n",
            "[!] Issue getting: https://cps-static.rovicorp.com/2/Open/Roadshow_Entertainment_2116/Program/30788783/_3by4/_derived_jpg_q90_600x800_m0/Blue Dog_17266.jpg?partner=allmovie_soap\n",
            "[!] Error:: URL can't contain control characters. '/2/Open/Roadshow_Entertainment_2116/Program/30788783/_3by4/_derived_jpg_q90_600x800_m0/Blue Dog_17266.jpg?partner=allmovie_soap' (found at least ' ')\n",
            "[%] Downloading Image #20 from https://www.dogshaming.com/wp-content/uploads/2014/06/image.jpg\n",
            "[%] File Downloaded !\n",
            "\n",
            "[%] Downloading Image #21 from https://mydoglikes.com/wp-content/uploads/2017/01/Grain-Free-Dog-Food.jpg\n",
            "[%] File Downloaded !\n",
            "\n",
            "[%] Downloading Image #22 from https://www.annmarieackermann.com/wp-content/uploads/2015/10/Frank-cropped.jpg\n",
            "[%] File Downloaded !\n",
            "\n",
            "[%] Downloading Image #23 from http://www.shedoesthecity.com/wp-content/uploads/files/2013/05/marshall-1.jpg\n",
            "[%] File Downloaded !\n",
            "\n",
            "[%] Downloading Image #24 from https://img.women.com/images/images/000/113/751/large/Untitled_2.png?1508748247\n",
            "[%] File Downloaded !\n",
            "\n",
            "[%] Downloading Image #25 from https://mydoglikes.com/wp-content/uploads/2017/10/True-Chews-Dog-Treats.jpg\n",
            "[%] File Downloaded !\n",
            "\n",
            "[%] Downloading Image #26 from https://www.fetchpetcare.com/wp-content/uploads/2016/11/bonus-ramen-noodle-poodle.jpg\n",
            "[%] File Downloaded !\n",
            "\n",
            "[%] Downloading Image #27 from https://www.pets4homes.co.uk/images/classifieds/2017/07/07/1642886/large/true-tiny-pomeranian-stud-dog-not-for-sale-595fa6f898815.jpg\n",
            "[%] File Downloaded !\n",
            "\n",
            "[%] Downloading Image #28 from https://cdn.newsapi.com.au/image/v1/18c36f93503787a9c74ddb367c348fcf\n",
            "[%] File Downloaded !\n",
            "\n",
            "\n",
            "\n",
            "[!!]Indexing page: 2\n",
            "\n",
            "[%] Indexed 35 Images on Page 2.\n",
            "\n",
            "===============================================\n",
            "\n",
            "[%] Downloading Image #29 from https://cdn.newsapi.com.au/image/v1/098fe707e818d4d04deb0e27af7186bd?width=650\n",
            "[%] File Downloaded !\n",
            "\n",
            "[%] Downloading Image #30 from http://schoolmum.net/wp-content/uploads/2016/12/RedDog-TrueBlue-FULL.jpg\n",
            "[%] File Downloaded !\n",
            "\n",
            "\n",
            "\n",
            "[%] Done. Downloaded 30 images.\n",
            "===============================================\n",
            "\n",
            "Please show your support here\n",
            "https://www.buymeacoffee.com/gurugaurav\n",
            "\n",
            "===============================================\n",
            "\n"
          ],
          "name": "stdout"
        }
      ]
    },
    {
      "cell_type": "code",
      "metadata": {
        "id": "NkE1zae5F9SZ"
      },
      "source": [
        "import os\n",
        "import matplotlib.pyplot as plt\n",
        "import numpy as np\n",
        "from skimage.io import imread\n",
        "from skimage.transform import resize"
      ],
      "execution_count": 27,
      "outputs": []
    },
    {
      "cell_type": "code",
      "metadata": {
        "id": "TIHJQE35HD-I"
      },
      "source": [
        "target=[]\n",
        "images=[]\n",
        "flat_data=[]\n",
        "DATADIR='/content/images'\n",
        "CATEGORIES=['beautiful roses','dog','tennis ball']\n",
        "for category in CATEGORIES:\n",
        "  class_num=CATEGORIES.index(category)\n",
        "  path=os.path.join(DATADIR,category)\n",
        "  for img in os.listdir(path):\n",
        "    img_array=imread(os.path.join(path,img))\n",
        "    img_resized=resize(img_array,(150,150,3))\n",
        "    flat_data.append(img_resized.flatten())\n",
        "    images.append(img_resized)\n",
        "    target.append(class_num)\n",
        "flat_data=np.array(flat_data)\n",
        "target=np.array(target)\n",
        "images=np.array(images)\n",
        "\n",
        "\n",
        "      \n",
        "  "
      ],
      "execution_count": 28,
      "outputs": []
    },
    {
      "cell_type": "code",
      "metadata": {
        "id": "96UPYfoXTrdt"
      },
      "source": [
        "from sklearn.model_selection import train_test_split\n",
        "x_train,x_test,y_train,y_test=train_test_split(flat_data,target,test_size=0.3,random_state=109)"
      ],
      "execution_count": 29,
      "outputs": []
    },
    {
      "cell_type": "code",
      "metadata": {
        "id": "trjhA5E1cJBf",
        "colab": {
          "base_uri": "https://localhost:8080/"
        },
        "outputId": "1f50f304-82b0-4ba0-b1b9-dc0a28060875"
      },
      "source": [
        "from sklearn.model_selection import GridSearchCV\n",
        "from sklearn import svm\n",
        "param_grid=[\n",
        "            {'C':[1,10,100,1000],'kernel':['linear']},\n",
        "            {'C':[1,10,100,1000],'gamma':[0.001,0.0001],'kernel':['rbf']}\n",
        "            ]\n",
        "svc=svm.SVC(probability=True)\n",
        "clf=GridSearchCV(svc,param_grid)\n",
        "clf.fit(x_train,y_train)"
      ],
      "execution_count": 30,
      "outputs": [
        {
          "output_type": "execute_result",
          "data": {
            "text/plain": [
              "GridSearchCV(cv=None, error_score=nan,\n",
              "             estimator=SVC(C=1.0, break_ties=False, cache_size=200,\n",
              "                           class_weight=None, coef0=0.0,\n",
              "                           decision_function_shape='ovr', degree=3,\n",
              "                           gamma='scale', kernel='rbf', max_iter=-1,\n",
              "                           probability=True, random_state=None, shrinking=True,\n",
              "                           tol=0.001, verbose=False),\n",
              "             iid='deprecated', n_jobs=None,\n",
              "             param_grid=[{'C': [1, 10, 100, 1000], 'kernel': ['linear']},\n",
              "                         {'C': [1, 10, 100, 1000], 'gamma': [0.001, 0.0001],\n",
              "                          'kernel': ['rbf']}],\n",
              "             pre_dispatch='2*n_jobs', refit=True, return_train_score=False,\n",
              "             scoring=None, verbose=0)"
            ]
          },
          "metadata": {
            "tags": []
          },
          "execution_count": 30
        }
      ]
    },
    {
      "cell_type": "code",
      "metadata": {
        "colab": {
          "base_uri": "https://localhost:8080/"
        },
        "id": "lfdHzYJJYGRw",
        "outputId": "1ccb2a83-be8b-499f-e02b-1f95d5df3394"
      },
      "source": [
        "y_pred=clf.predict(x_test)\n",
        "y_pred"
      ],
      "execution_count": 31,
      "outputs": [
        {
          "output_type": "execute_result",
          "data": {
            "text/plain": [
              "array([2, 0, 2, 2, 1, 0, 0, 0, 0, 0, 2, 2, 1, 0, 0, 1, 2, 2, 1, 1, 2, 0,\n",
              "       0, 0, 2, 0, 2, 0, 0, 1, 2, 2, 1, 2, 2, 0, 2, 1, 1, 1, 2, 2, 2, 2,\n",
              "       1, 1, 2, 2])"
            ]
          },
          "metadata": {
            "tags": []
          },
          "execution_count": 31
        }
      ]
    },
    {
      "cell_type": "code",
      "metadata": {
        "colab": {
          "base_uri": "https://localhost:8080/"
        },
        "id": "ZTiU8OR_YO8j",
        "outputId": "e4966510-b0d9-4625-c6f4-e7653c359764"
      },
      "source": [
        "from sklearn.metrics import accuracy_score,confusion_matrix\n",
        "accuracy_score(y_pred,y_test)"
      ],
      "execution_count": 32,
      "outputs": [
        {
          "output_type": "execute_result",
          "data": {
            "text/plain": [
              "0.7083333333333334"
            ]
          },
          "metadata": {
            "tags": []
          },
          "execution_count": 32
        }
      ]
    },
    {
      "cell_type": "code",
      "metadata": {
        "id": "REypTn7RYoO1"
      },
      "source": [
        "import pickle\n",
        "pickle.dump(clf,open('img_model.p','wb'))"
      ],
      "execution_count": 33,
      "outputs": []
    },
    {
      "cell_type": "code",
      "metadata": {
        "id": "VmNkAUR5ZK4v"
      },
      "source": [
        "model=pickle.load(open('img_model.p','rb'))"
      ],
      "execution_count": 34,
      "outputs": []
    },
    {
      "cell_type": "code",
      "metadata": {
        "id": "_ajnEVqjlHFP"
      },
      "source": [
        "!pip install streamlit\n",
        "!pip install pyngrok\n",
        "from pyngrok import ngrok"
      ],
      "execution_count": 34,
      "outputs": []
    },
    {
      "cell_type": "code",
      "metadata": {
        "id": "PDGkpMgmQd7x"
      },
      "source": [
        "%%writefile app.py\n",
        "import streamlit as st\n",
        "import numpy as np\n",
        "from skimage.io import imread\n",
        "from skimage.transform import resize\n",
        "import pickle\n",
        "from PIL import Image\n",
        "st.title('Image classification')\n",
        "st.text('Upload the image')\n",
        "model=pickle.load(open('img_model.p','rb'))\n",
        "uploaded_file=st.file_uploader('Choose an image',type=\"jpg\")\n",
        "if uploaded_file is not None:\n",
        "  img=Image.open(uploaded_file)\n",
        "  st.image(img,caption=\"Uploaded image\")\n",
        "  if st.button(\"PREDICT\"):\n",
        "    st.write('Result')\n",
        "    flat_data=[]\n",
        "    img=np.array(img)\n",
        "    img_resized=resize(img,(150,150,3))\n",
        "    flat_data.append(img_resized.flatten())\n",
        "    flat_data=np.array(flat_data)\n",
        "    y_out=model(flat_data)\n",
        "    y_out=CATEGORIES[y_out[0]]\n",
        "    st.write(f'Predicted output:{y_out}')\n",
        "\n",
        "\n"
      ],
      "execution_count": null,
      "outputs": []
    },
    {
      "cell_type": "code",
      "metadata": {
        "id": "cvHmOptBRDrx"
      },
      "source": [
        "!nohup streamlit run app.py &\n",
        "url=ngrok.connect(port='8501')\n",
        "url"
      ],
      "execution_count": null,
      "outputs": []
    },
    {
      "cell_type": "code",
      "metadata": {
        "id": "EHgF4sL6RTZb"
      },
      "source": [
        ""
      ],
      "execution_count": null,
      "outputs": []
    }
  ]
}